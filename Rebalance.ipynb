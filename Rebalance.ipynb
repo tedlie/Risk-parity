{
 "cells": [
  {
   "cell_type": "code",
   "execution_count": 12,
   "metadata": {},
   "outputs": [],
   "source": [
    "#!/usr/local/bin/python3\n",
    "\n",
    "# Author: Zebing Lin (https://github.com/linzebing)\n",
    "\n",
    "from datetime import datetime, date\n",
    "import math\n",
    "import numpy as np\n",
    "import time\n",
    "import sys\n",
    "import requests\n",
    "\n",
    "if len(sys.argv) == 1:\n",
    "    symbols = ['UPRO', 'TMF']\n",
    "else:\n",
    "    symbols = sys.argv[1].split(',')\n",
    "    for i in range(len(symbols)):\n",
    "        symbols[i] = symbols[i].strip().upper()\n",
    "\n",
    "num_trading_days_per_year = 252\n",
    "window_size = 20\n",
    "date_format = \"%Y-%m-%d\"\n",
    "end_timestamp = int(time.time())\n",
    "start_timestamp = int(end_timestamp - (1.4 * (window_size + 1) + 4) * 86400)"
   ]
  },
  {
   "cell_type": "code",
   "execution_count": 6,
   "metadata": {
    "collapsed": true
   },
   "outputs": [],
   "source": [
    "def get_volatility_and_performance(symbol):\n",
    "    download_url = \"https://query1.finance.yahoo.com/v7/finance/download/{}?period1={}&period2={}&interval=1d&events=history&crumb=a7pcO//zvcW\".format(symbol, start_timestamp, end_timestamp)\n",
    "    lines = requests.get(download_url, cookies={'B': 'chjes25epq9b6&b=3&s=18'}).text.strip().split('\\n')\n",
    "    assert lines[0].split(',')[0] == 'Date'\n",
    "    assert lines[0].split(',')[4] == 'Close'\n",
    "    prices = []\n",
    "    for line in lines[1:]:\n",
    "        prices.append(float(line.split(',')[4]))\n",
    "    prices.reverse()\n",
    "    volatilities_in_window = []\n",
    "\n",
    "    for i in range(window_size):\n",
    "        volatilities_in_window.append(math.log(prices[i] / prices[i+1]))\n",
    "        \n",
    "    most_recent_date = datetime.strptime(lines[-1].split(',')[0], date_format).date()\n",
    "    assert (date.today() - most_recent_date).days <= 4, \"today is {}, most recent trading day is {}\".format(date.today(), most_recent_date)\n",
    "\n",
    "    return np.std(volatilities_in_window, ddof = 1) * np.sqrt(num_trading_days_per_year), prices[0] / prices[window_size] - 1.0"
   ]
  },
  {
   "cell_type": "code",
   "execution_count": 14,
   "metadata": {},
   "outputs": [],
   "source": [
    "symbols = ['UPRO', 'TMF']"
   ]
  },
  {
   "cell_type": "code",
   "execution_count": 15,
   "metadata": {},
   "outputs": [],
   "source": [
    "volatilities = []\n",
    "performances = []\n",
    "sum_inverse_volatility = 0.0\n",
    "for symbol in symbols:\n",
    "    volatility, performance = get_volatility_and_performance(symbol)\n",
    "    sum_inverse_volatility += 1 / volatility\n",
    "    volatilities.append(volatility)\n",
    "    performances.append(performance)\n"
   ]
  },
  {
   "cell_type": "code",
   "execution_count": 16,
   "metadata": {},
   "outputs": [
    {
     "name": "stdout",
     "output_type": "stream",
     "text": [
      "Portfolio: ['UPRO', 'TMF'], as of 2020-02-19 (window size is 20 days)\n",
      "UPRO allocation ratio: 47.50% (anualized volatility: 40.25%, performance: 6.01%)\n",
      "TMF allocation ratio: 52.50% (anualized volatility: 36.41%, performance: 12.73%)\n"
     ]
    }
   ],
   "source": [
    "\n",
    "print (\"Portfolio: {}, as of {} (window size is {} days)\".format(str(symbols), date.today().strftime('%Y-%m-%d'), window_size))\n",
    "for i in range(len(symbols)):\n",
    "    print ('{} allocation ratio: {:.2f}% (anualized volatility: {:.2f}%, performance: {:.2f}%)'.format(symbols[i], float(100 / (volatilities[i] * sum_inverse_volatility)), float(volatilities[i] * 100), float(performances[i] * 100)))\n",
    "\n",
    "\n"
   ]
  },
  {
   "cell_type": "code",
   "execution_count": null,
   "metadata": {
    "collapsed": true
   },
   "outputs": [],
   "source": []
  }
 ],
 "metadata": {
  "kernelspec": {
   "display_name": "Python [conda env:py36]",
   "language": "python",
   "name": "conda-env-py36-py"
  },
  "language_info": {
   "codemirror_mode": {
    "name": "ipython",
    "version": 3
   },
   "file_extension": ".py",
   "mimetype": "text/x-python",
   "name": "python",
   "nbconvert_exporter": "python",
   "pygments_lexer": "ipython3",
   "version": "3.6.6"
  }
 },
 "nbformat": 4,
 "nbformat_minor": 2
}
